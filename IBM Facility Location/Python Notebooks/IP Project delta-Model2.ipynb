{
 "cells": [
  {
   "cell_type": "code",
   "execution_count": 1,
   "metadata": {
    "collapsed": true
   },
   "outputs": [],
   "source": [
    "import openpyxl\n",
    "import numpy as np\n",
    "import math\n",
    "from haversine import haversine"
   ]
  },
  {
   "cell_type": "code",
   "execution_count": 13,
   "metadata": {
    "collapsed": false
   },
   "outputs": [],
   "source": [
    "wb = openpyxl.load_workbook('//home//archit//Model2delta.xlsx')\n",
    "delta=wb.get_sheet_by_name('Delta')\n",
    "wh=wb.get_sheet_by_name('Warehouses')\n",
    "cust=wb.get_sheet_by_name('Customers')"
   ]
  },
  {
   "cell_type": "code",
   "execution_count": 15,
   "metadata": {
    "collapsed": false
   },
   "outputs": [],
   "source": [
    "count=2\n",
    "for i in range(1,151):\n",
    "    for j in range(1,201):\n",
    "        for k in range(1,4):\n",
    "            warehouse=(wh['B'+str(i+1)].value, wh['C'+str(i+1)].value)\n",
    "            customer=(cust['B'+str(j+1)].value, cust['C'+str(j+1)].value)\n",
    "            delta['A'+str(count)].value=k\n",
    "            delta['B'+str(count)].value=i\n",
    "            delta['C'+str(count)].value=j\n",
    "            if (k==1):\n",
    "                if(haversine(warehouse, customer, miles=True)<280):\n",
    "                    delta['D'+str(count)].value=1\n",
    "                    count+=1\n",
    "                    for l in range(2,4):\n",
    "                        delta['A'+str(count)].value=l\n",
    "                        delta['B'+str(count)].value=i\n",
    "                        delta['C'+str(count)].value=j\n",
    "                        delta['D'+str(count)].value=1\n",
    "                        count+=1\n",
    "                    break\n",
    "                else: \n",
    "                    delta['D'+str(count)].value=0\n",
    "            elif(k==2):\n",
    "                if(haversine(warehouse, customer, miles=True)<840):\n",
    "                    delta['D'+str(count)].value=1\n",
    "                else:\n",
    "                    delta['D'+str(count)].value=0\n",
    "            elif(k==3):\n",
    "                if(haversine(warehouse, customer, miles=True)<5040):\n",
    "                    delta['D'+str(count)].value=1\n",
    "                else:\n",
    "                    delta['D'+str(count)].value=0\n",
    "            count+=1\n",
    "wb.save('//home//archit//Model2delta.xlsx')"
   ]
  },
  {
   "cell_type": "code",
   "execution_count": null,
   "metadata": {
    "collapsed": true
   },
   "outputs": [],
   "source": []
  }
 ],
 "metadata": {
  "kernelspec": {
   "display_name": "Python 2",
   "language": "python",
   "name": "python2"
  },
  "language_info": {
   "codemirror_mode": {
    "name": "ipython",
    "version": 2
   },
   "file_extension": ".py",
   "mimetype": "text/x-python",
   "name": "python",
   "nbconvert_exporter": "python",
   "pygments_lexer": "ipython2",
   "version": "2.7.11"
  }
 },
 "nbformat": 4,
 "nbformat_minor": 0
}
