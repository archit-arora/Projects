{
 "cells": [
  {
   "cell_type": "code",
   "execution_count": 2,
   "metadata": {
    "collapsed": true
   },
   "outputs": [],
   "source": [
    "import openpyxl\n",
    "import numpy as np\n",
    "import math\n",
    "from haversine import haversine"
   ]
  },
  {
   "cell_type": "code",
   "execution_count": 3,
   "metadata": {
    "collapsed": false
   },
   "outputs": [
    {
     "data": {
      "text/plain": [
       "[u'Hubs', u'Warehouses', u'Customers', u'HW distance', u'WC distance']"
      ]
     },
     "execution_count": 3,
     "metadata": {},
     "output_type": "execute_result"
    }
   ],
   "source": [
    "wb = openpyxl.load_workbook('//home//archit//Model2Distance.xlsx')\n",
    "wb.get_sheet_names()"
   ]
  },
  {
   "cell_type": "code",
   "execution_count": 5,
   "metadata": {
    "collapsed": false
   },
   "outputs": [],
   "source": [
    "hwdist=wb.get_sheet_by_name('HW distance')\n",
    "wcdist=wb.get_sheet_by_name('WC distance')\n",
    "hub=wb.get_sheet_by_name('Hubs')\n",
    "wh=wb.get_sheet_by_name('Warehouses')\n",
    "cust=wb.get_sheet_by_name('Customers')"
   ]
  },
  {
   "cell_type": "code",
   "execution_count": 7,
   "metadata": {
    "collapsed": false
   },
   "outputs": [],
   "source": [
    "count=2\n",
    "for i in range(1,51):\n",
    "    for j in range(1,151):\n",
    "        hwdist['A'+str(count)].value=i\n",
    "        hwdist['B'+str(count)].value=j\n",
    "        hubs=(hub['B'+str(i+1)].value,hub['C'+str(i+1)].value)\n",
    "        warehouse=(wh['B'+str(j+1)].value,wh['C'+str(j+1)].value)\n",
    "        hwdist['C'+str(count)].value = haversine(hubs,warehouse,miles=True)\n",
    "        count+=1\n",
    "count=2\n",
    "for i in range(1,151):\n",
    "    for j in range(1,201):\n",
    "        wcdist['A'+str(count)].value=i\n",
    "        wcdist['B'+str(count)].value=j\n",
    "        customer=(cust['B'+str(i+1)].value,cust['C'+str(i+1)].value)\n",
    "        warehouse=(wh['B'+str(j+1)].value,wh['C'+str(j+1)].value)\n",
    "        wcdist['C'+str(count)].value = haversine(warehouse,customer,miles=True)\n",
    "        count+=1\n",
    "wb.save('//home//archit//Model2Distance.xlsx')"
   ]
  },
  {
   "cell_type": "code",
   "execution_count": 9,
   "metadata": {
    "collapsed": true
   },
   "outputs": [],
   "source": []
  },
  {
   "cell_type": "code",
   "execution_count": null,
   "metadata": {
    "collapsed": true
   },
   "outputs": [],
   "source": []
  }
 ],
 "metadata": {
  "kernelspec": {
   "display_name": "Python 2",
   "language": "python",
   "name": "python2"
  },
  "language_info": {
   "codemirror_mode": {
    "name": "ipython",
    "version": 2
   },
   "file_extension": ".py",
   "mimetype": "text/x-python",
   "name": "python",
   "nbconvert_exporter": "python",
   "pygments_lexer": "ipython2",
   "version": "2.7.11"
  }
 },
 "nbformat": 4,
 "nbformat_minor": 0
}
